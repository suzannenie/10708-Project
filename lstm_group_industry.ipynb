{
  "nbformat": 4,
  "nbformat_minor": 0,
  "metadata": {
    "colab": {
      "provenance": []
    },
    "kernelspec": {
      "name": "python3",
      "display_name": "Python 3"
    },
    "language_info": {
      "name": "python"
    },
    "gpuClass": "standard",
    "accelerator": "GPU"
  },
  "cells": [
    {
      "cell_type": "code",
      "source": [
        "from google.colab import drive\n",
        "drive.mount('/content/drive/')"
      ],
      "metadata": {
        "colab": {
          "base_uri": "https://localhost:8080/"
        },
        "id": "i2YLhtqQho2z",
        "outputId": "439c5c1a-9ca7-4956-b84b-007c24217e9a"
      },
      "execution_count": 2,
      "outputs": [
        {
          "output_type": "stream",
          "name": "stdout",
          "text": [
            "Drive already mounted at /content/drive/; to attempt to forcibly remount, call drive.mount(\"/content/drive/\", force_remount=True).\n"
          ]
        }
      ]
    },
    {
      "cell_type": "code",
      "source": [
        "%cd /content/drive/MyDrive/10708/"
      ],
      "metadata": {
        "colab": {
          "base_uri": "https://localhost:8080/"
        },
        "id": "T9r4poJIiwX4",
        "outputId": "9587aefc-1389-4e5f-b6c0-4ad1bb60db1c"
      },
      "execution_count": 3,
      "outputs": [
        {
          "output_type": "stream",
          "name": "stdout",
          "text": [
            "/content/drive/MyDrive/10708\n"
          ]
        }
      ]
    },
    {
      "cell_type": "code",
      "source": [
        "!pip install kaggle"
      ],
      "metadata": {
        "colab": {
          "base_uri": "https://localhost:8080/"
        },
        "id": "AjiKrWJ-jba4",
        "outputId": "02a0ce4e-7855-45b0-d2d9-1da5a67f8c34"
      },
      "execution_count": null,
      "outputs": [
        {
          "output_type": "stream",
          "name": "stdout",
          "text": [
            "Looking in indexes: https://pypi.org/simple, https://us-python.pkg.dev/colab-wheels/public/simple/\n",
            "Requirement already satisfied: kaggle in /usr/local/lib/python3.9/dist-packages (1.5.13)\n",
            "Requirement already satisfied: six>=1.10 in /usr/local/lib/python3.9/dist-packages (from kaggle) (1.15.0)\n",
            "Requirement already satisfied: python-slugify in /usr/local/lib/python3.9/dist-packages (from kaggle) (8.0.1)\n",
            "Requirement already satisfied: tqdm in /usr/local/lib/python3.9/dist-packages (from kaggle) (4.65.0)\n",
            "Requirement already satisfied: python-dateutil in /usr/local/lib/python3.9/dist-packages (from kaggle) (2.8.2)\n",
            "Requirement already satisfied: urllib3 in /usr/local/lib/python3.9/dist-packages (from kaggle) (1.26.15)\n",
            "Requirement already satisfied: certifi in /usr/local/lib/python3.9/dist-packages (from kaggle) (2022.12.7)\n",
            "Requirement already satisfied: requests in /usr/local/lib/python3.9/dist-packages (from kaggle) (2.25.1)\n",
            "Requirement already satisfied: text-unidecode>=1.3 in /usr/local/lib/python3.9/dist-packages (from python-slugify->kaggle) (1.3)\n",
            "Requirement already satisfied: chardet<5,>=3.0.2 in /usr/local/lib/python3.9/dist-packages (from requests->kaggle) (4.0.0)\n",
            "Requirement already satisfied: idna<3,>=2.5 in /usr/local/lib/python3.9/dist-packages (from requests->kaggle) (2.10)\n"
          ]
        }
      ]
    },
    {
      "cell_type": "code",
      "source": [
        "%cp .kaggle/kaggle.json /root/.kaggle/kaggle.json"
      ],
      "metadata": {
        "id": "F6_oOhkIjXoZ"
      },
      "execution_count": null,
      "outputs": []
    },
    {
      "cell_type": "code",
      "source": [
        "!kaggle datasets download -d paultimothymooney/stock-market-data"
      ],
      "metadata": {
        "colab": {
          "base_uri": "https://localhost:8080/"
        },
        "id": "oFnhXuKokQrY",
        "outputId": "e45e099c-3ac2-432b-d573-eb6eaedb7159"
      },
      "execution_count": null,
      "outputs": [
        {
          "output_type": "stream",
          "name": "stdout",
          "text": [
            "Downloading stock-market-data.zip to /content/drive/MyDrive/10708\n",
            " 99% 1.02G/1.03G [00:09<00:00, 79.1MB/s]\n",
            "100% 1.03G/1.03G [00:09<00:00, 121MB/s] \n"
          ]
        }
      ]
    },
    {
      "cell_type": "code",
      "source": [
        "!unzip *.zip"
      ],
      "metadata": {
        "id": "0H2ijRFEkZPC"
      },
      "execution_count": null,
      "outputs": []
    },
    {
      "cell_type": "markdown",
      "source": [
        "# Group By Sector"
      ],
      "metadata": {
        "id": "VDMC2Ur8ky6l"
      }
    },
    {
      "cell_type": "code",
      "source": [
        "import pandas as pd\n",
        "import numpy as np\n",
        "from sklearn.preprocessing import MinMaxScaler"
      ],
      "metadata": {
        "id": "PFClJFUikiL8"
      },
      "execution_count": 4,
      "outputs": []
    },
    {
      "cell_type": "code",
      "source": [
        "df = pd.read_csv(\"sectors/all_industries.csv\")"
      ],
      "metadata": {
        "id": "qEgZtd3_9I_p"
      },
      "execution_count": 10,
      "outputs": []
    },
    {
      "cell_type": "code",
      "source": [
        "len(df)"
      ],
      "metadata": {
        "colab": {
          "base_uri": "https://localhost:8080/"
        },
        "id": "KiRzLQaYB1rs",
        "outputId": "f217ab45-e7a1-4ecc-abfb-19cce9472b0a"
      },
      "execution_count": 11,
      "outputs": [
        {
          "output_type": "execute_result",
          "data": {
            "text/plain": [
              "7730"
            ]
          },
          "metadata": {},
          "execution_count": 11
        }
      ]
    },
    {
      "cell_type": "code",
      "source": [
        "sectors = []\n",
        "for group in df.groupby(['Sector']):\n",
        "  sectors.append(group[0])\n",
        "tickers = {}\n",
        "for sector in sectors:\n",
        "  tickers[sector] = set()"
      ],
      "metadata": {
        "colab": {
          "base_uri": "https://localhost:8080/"
        },
        "id": "Ls2uNhHM-Inr",
        "outputId": "ff7017f1-00e1-4d35-e3fc-3f5ede344faa"
      },
      "execution_count": 12,
      "outputs": [
        {
          "output_type": "stream",
          "name": "stderr",
          "text": [
            "<ipython-input-12-f071859d71b8>:2: FutureWarning: In a future version of pandas, a length 1 tuple will be returned when iterating over a groupby with a grouper equal to a list of length 1. Don't supply a list with a single grouper to avoid this warning.\n",
            "  for group in df.groupby(['Sector']):\n"
          ]
        }
      ]
    },
    {
      "cell_type": "code",
      "source": [
        "tickers"
      ],
      "metadata": {
        "colab": {
          "base_uri": "https://localhost:8080/"
        },
        "id": "2ba0YiKe_M_B",
        "outputId": "81295f4e-ac7e-4e25-f7cd-453e7b2c3061"
      },
      "execution_count": 13,
      "outputs": [
        {
          "output_type": "execute_result",
          "data": {
            "text/plain": [
              "{'Basic Materials': set(),\n",
              " 'Consumer Discretionary': set(),\n",
              " 'Consumer Staples': set(),\n",
              " 'Energy': set(),\n",
              " 'Finance': set(),\n",
              " 'Health Care': set(),\n",
              " 'Industrials': set(),\n",
              " 'Miscellaneous': set(),\n",
              " 'Real Estate': set(),\n",
              " 'Technology': set(),\n",
              " 'Telecommunications': set(),\n",
              " 'Utilities': set()}"
            ]
          },
          "metadata": {},
          "execution_count": 13
        }
      ]
    },
    {
      "cell_type": "code",
      "source": [
        "for row in df.iterrows():\n",
        "  try:\n",
        "    tickers[row[1]['Sector']].add(row[1]['Symbol'])\n",
        "  except:\n",
        "    print(row)"
      ],
      "metadata": {
        "id": "LoQJJ-SF-xW-"
      },
      "execution_count": null,
      "outputs": []
    },
    {
      "cell_type": "code",
      "source": [
        "total = 0\n",
        "for sector in tickers:\n",
        "  print(sector, len(tickers[sector]))\n",
        "  total += len(tickers[sector])\n",
        "print(total)"
      ],
      "metadata": {
        "colab": {
          "base_uri": "https://localhost:8080/"
        },
        "id": "mgBW2r1U_ZNA",
        "outputId": "1be0e671-75ce-471d-aa4d-b1390ab9e413"
      },
      "execution_count": 15,
      "outputs": [
        {
          "output_type": "stream",
          "name": "stdout",
          "text": [
            "Basic Materials 53\n",
            "Consumer Discretionary 1079\n",
            "Consumer Staples 148\n",
            "Energy 203\n",
            "Finance 1708\n",
            "Health Care 1296\n",
            "Industrials 912\n",
            "Miscellaneous 39\n",
            "Real Estate 298\n",
            "Technology 862\n",
            "Telecommunications 68\n",
            "Utilities 174\n",
            "6840\n"
          ]
        }
      ]
    },
    {
      "cell_type": "code",
      "source": [
        "with open('sector_ticker_sets.pkl', 'wb') as f:\n",
        "  pickle.dump(tickers, f)"
      ],
      "metadata": {
        "id": "5rL_JojO1mnq"
      },
      "execution_count": 16,
      "outputs": []
    },
    {
      "cell_type": "code",
      "source": [
        "import glob\n",
        "\n",
        "files = glob.glob('stock_market_data/nasdaq/csv/*.csv')\n",
        "len(files), files[0].split('/')[-1][:-4]\n",
        "not_found = 0\n",
        "tech = []\n",
        "\n",
        "provided = {}\n",
        "for filename in files:\n",
        "  name = filename.split('/')[-1][:-4]\n",
        "  found = False\n",
        "  for sector in tickers:\n",
        "    if name in tickers[sector]:\n",
        "      found = True\n",
        "      provided[sector] = provided.get(sector, 0) + 1\n",
        "    if name in tickers[\"Technology\"]:\n",
        "      tech.append(name)\n",
        "  if not found:\n",
        "    not_found += 1\n",
        "    # print(name)\n",
        "print(not_found, len(files))\n",
        "    "
      ],
      "metadata": {
        "colab": {
          "base_uri": "https://localhost:8080/"
        },
        "id": "u2QOSS77_9VS",
        "outputId": "58cb9c5c-3de1-44a6-94b7-0a7c84d822b6"
      },
      "execution_count": 24,
      "outputs": [
        {
          "output_type": "stream",
          "name": "stdout",
          "text": [
            "348 1564\n"
          ]
        }
      ]
    },
    {
      "cell_type": "code",
      "source": [
        "import matplotlib.pyplot as plt\n",
        "\n",
        "D = provided\n",
        "\n",
        "plt.bar(range(len(D)), list(D.values()), align='center')\n",
        "plt.xticks(range(len(D)), list(D.keys()), rotation=90)\n",
        "plt.title(\"Distribution by Sector NASDAQ\")\n",
        "\n",
        "plt.show()"
      ],
      "metadata": {
        "colab": {
          "base_uri": "https://localhost:8080/",
          "height": 606
        },
        "id": "Zimcsyir2eIf",
        "outputId": "871768d7-d61b-4ec9-c011-1f845a38ecb0"
      },
      "execution_count": 25,
      "outputs": [
        {
          "output_type": "display_data",
          "data": {
            "text/plain": [
              "<Figure size 640x480 with 1 Axes>"
            ],
            "image/png": "[encoded data removed]"
          },
          "metadata": {}
        }
      ]
    },
    {
      "cell_type": "code",
      "source": [
        "import glob\n",
        "\n",
        "files = glob.glob('stock_market_data/nyse/csv/*.csv')\n",
        "len(files), files[0].split('/')[-1][:-4]\n",
        "not_found = 0\n",
        "tech = []\n",
        "\n",
        "provided = {}\n",
        "for filename in files:\n",
        "  name = filename.split('/')[-1][:-4]\n",
        "  found = False\n",
        "  for sector in tickers:\n",
        "    if name in tickers[sector]:\n",
        "      found = True\n",
        "      provided[sector] = provided.get(sector, 0) + 1\n",
        "      break\n",
        "    if name in tickers[\"Technology\"]:\n",
        "      tech.append(name)\n",
        "  if not found:\n",
        "    not_found += 1\n",
        "    # print(name)\n",
        "print(not_found, len(files))"
      ],
      "metadata": {
        "colab": {
          "base_uri": "https://localhost:8080/"
        },
        "id": "9yY6Y0pZ1cLB",
        "outputId": "48b64f74-8ec1-4938-a16e-15b708de832d"
      },
      "execution_count": 28,
      "outputs": [
        {
          "output_type": "stream",
          "name": "stdout",
          "text": [
            "204 1145\n"
          ]
        }
      ]
    },
    {
      "cell_type": "code",
      "source": [
        "import matplotlib.pyplot as plt\n",
        "\n",
        "D = provided\n",
        "\n",
        "plt.bar(range(len(D)), list(D.values()), align='center')\n",
        "plt.xticks(range(len(D)), list(D.keys()), rotation=90)\n",
        "plt.title(\"Distribution by Sector NYSE\")\n",
        "\n",
        "plt.show()"
      ],
      "metadata": {
        "colab": {
          "base_uri": "https://localhost:8080/",
          "height": 606
        },
        "id": "oKUbmcCy2iCi",
        "outputId": "496cb8a2-85e2-4030-8603-f5dd7ccf303a"
      },
      "execution_count": 29,
      "outputs": [
        {
          "output_type": "display_data",
          "data": {
            "text/plain": [
              "<Figure size 640x480 with 1 Axes>"
            ],
            "image/png": "[encoded data removed]"
          },
          "metadata": {}
        }
      ]
    },
    {
      "cell_type": "code",
      "source": [
        "provided"
      ],
      "metadata": {
        "colab": {
          "base_uri": "https://localhost:8080/"
        },
        "id": "EM7WBZf5A4rb",
        "outputId": "fa7bfbdc-a751-4903-833c-feec40ddec69"
      },
      "execution_count": 19,
      "outputs": [
        {
          "output_type": "execute_result",
          "data": {
            "text/plain": [
              "{'Industrials': 113,\n",
              " 'Finance': 363,\n",
              " 'Consumer Discretionary': 150,\n",
              " 'Health Care': 45,\n",
              " 'Real Estate': 90,\n",
              " 'Energy': 54,\n",
              " 'Consumer Staples': 23,\n",
              " 'Utilities': 38,\n",
              " 'Basic Materials': 13,\n",
              " 'Telecommunications': 10,\n",
              " 'Technology': 42}"
            ]
          },
          "metadata": {},
          "execution_count": 19
        }
      ]
    },
    {
      "cell_type": "code",
      "source": [
        "tech = set(tech)\n",
        "len(tech)"
      ],
      "metadata": {
        "colab": {
          "base_uri": "https://localhost:8080/"
        },
        "id": "pCsYnFM5w6aS",
        "outputId": "a268bc83-a1d4-45a5-b044-884641f6f4e0"
      },
      "execution_count": 30,
      "outputs": [
        {
          "output_type": "execute_result",
          "data": {
            "text/plain": [
              "42"
            ]
          },
          "metadata": {},
          "execution_count": 30
        }
      ]
    },
    {
      "cell_type": "code",
      "source": [
        "import pickle\n",
        "\n",
        "# with open('tech_set_nyse.pkl', 'wb') as f:\n",
        "#   pickle.dump(tech, f)\n",
        "with open('tech_set_nyse.pkl', 'rb') as f:\n",
        "  tech_nyse = pickle.load(f)\n",
        "with open('tech_set.pkl', 'rb') as f:\n",
        "  tech_nasdaq = pickle.load(f)"
      ],
      "metadata": {
        "id": "K2YMd1EOxAv1"
      },
      "execution_count": 6,
      "outputs": []
    },
    {
      "cell_type": "code",
      "source": [
        "import pandas as pd\n",
        "import os\n",
        "import torch\n",
        "from torch.utils.data import Dataset, DataLoader\n",
        "import matplotlib.pyplot as plt\n",
        "class CSVData(Dataset):\n",
        "    def __init__(self, folder_path, tech, training_length, predict_length):\n",
        "        self.folder_path = folder_path\n",
        "        self.training_length = training_length\n",
        "        self.predict_length = predict_length\n",
        "        # self.files = [f for f in os.listdir(folder_path) if f.endswith('.csv')][:200]\n",
        "        self.files = []\n",
        "        for ticker in tech:\n",
        "          self.files.append(ticker + '.csv')\n",
        "        self.data = []\n",
        "        self.tickers = []\n",
        "        self.ticker_list = []\n",
        "        print(len(self.files))\n",
        "\n",
        "        for file in self.files:\n",
        "          try:\n",
        "            csv_file = pd.read_csv(os.path.join(folder_path, file))\n",
        "            open_col = csv_file['Open'].values\n",
        "            self.tickers.append(file.split('.')[0])\n",
        "            ticker = file.split('.')[0]\n",
        "            for i in range(len(open_col) - training_length - predict_length):\n",
        "                self.data.append((open_col[i:i+training_length], open_col[i+training_length:i+training_length+predict_length], ticker))\n",
        "          except Exception as e:\n",
        "            print(e, print(file.split('.')[0]))\n",
        "\n",
        "    def __len__(self):\n",
        "        return len(self.data)\n",
        "\n",
        "    def __getitem__(self, index):\n",
        "        training_data, label_data, ticker = self.data[index]\n",
        "        training_data = torch.Tensor(training_data)\n",
        "        label_data = torch.Tensor(label_data)\n",
        "        # ticker = torch.Tensor(ticker)\n",
        "        return training_data, label_data, ticker\n",
        "\n",
        "    def plot_trend(self, batch_data):\n",
        "        plt.figure(figsize=(10, 5))\n",
        "        for i in range(batch_data.size(0)):\n",
        "            x = torch.arange(batch_data.shape[1])\n",
        "            y = batch_data[i].numpy()  * 100\n",
        "            plt.plot(x, y, label=f'{self.tickers[i]}')\n",
        "        plt.xlabel('Days')\n",
        "        plt.ylabel('Percentage of Original Value')\n",
        "        plt.title('Stock Trend')\n",
        "        plt.legend()\n",
        "        plt.show()\n",
        "\n",
        "# Example usage\n",
        "folder_path = \"stock_market_data/nasdaq/csv/\"\n",
        "training_length = 60\n",
        "predict_length = 30\n",
        "\n",
        "dataset = CSVData(folder_path, tech_nasdaq, training_length, predict_length)\n",
        "dataloader = DataLoader(dataset, batch_size=8, shuffle=True)\n",
        "\n",
        "# Iterate through batches of data\n",
        "i = 0\n",
        "for batch in dataloader:\n",
        "    training_data, label_data, ticker = batch\n",
        "    if i == 3:\n",
        "      print(training_data.shape, label_data.shape)\n",
        "      dataset.plot_trend(training_data)\n",
        "      break\n",
        "    i += 1\n",
        "     "
      ],
      "metadata": {
        "colab": {
          "base_uri": "https://localhost:8080/",
          "height": 576
        },
        "id": "fw7f5al7xL4Y",
        "outputId": "917a8b4a-a2d4-4489-f3ab-009282e43e57"
      },
      "execution_count": 11,
      "outputs": [
        {
          "output_type": "stream",
          "name": "stdout",
          "text": [
            "221\n",
            "LRCX\n",
            "Error tokenizing data. C error: Expected 7 fields in line 4926, saw 9\n",
            " None\n",
            "torch.Size([8, 60]) torch.Size([8, 30])\n"
          ]
        },
        {
          "output_type": "display_data",
          "data": {
            "text/plain": [
              "<Figure size 1000x500 with 1 Axes>"
            ],
            "image/png": "[encoded data removed]"
          },
          "metadata": {}
        }
      ]
    },
    {
      "cell_type": "code",
      "source": [
        "max_seq_len = 100\n",
        "batch_size = 16\n",
        "\n",
        "# Example usage\n",
        "folder_path = \"stock_market_data/nasdaq/csv/\"\n",
        "training_length = 60\n",
        "predict_length = 30\n",
        "\n",
        "dataset = CSVData(folder_path, tech_nasdaq, training_length, predict_length)\n",
        "train_loader = DataLoader(dataset, batch_size=8, shuffle=True)\n",
        "\n",
        "import numpy as np\n",
        "\n",
        "for data in train_loader:\n",
        "    \n",
        "    column_data, labels, tickers = data\n",
        "    print(column_data.shape, labels.shape)\n",
        "    # train_loader.plot_trend(column_data, column_len)\n",
        "    corr_matrix = torch.corrcoef(column_data.squeeze(-1))\n",
        "\n",
        "    # display correlation matrix\n",
        "    # plt.matshow(corr_matrix, 0)\n",
        "    print(dataset.tickers)\n",
        "    fig = plt.figure()\n",
        "    ax = fig.add_subplot(111)\n",
        "    cax = ax.matshow(corr_matrix)\n",
        "    fig.colorbar(cax)\n",
        "    \n",
        "    ax.set_xticklabels(['']+list(tickers))\n",
        "    ax.set_yticklabels(['']+list(tickers))\n",
        "\n",
        "    plt.show()\n",
        "    break\n"
      ],
      "metadata": {
        "colab": {
          "base_uri": "https://localhost:8080/",
          "height": 634
        },
        "id": "AJRL_0IjxatE",
        "outputId": "8c04f73a-34c3-4125-a541-6793bee556be"
      },
      "execution_count": 13,
      "outputs": [
        {
          "output_type": "stream",
          "name": "stdout",
          "text": [
            "221\n",
            "LRCX\n",
            "Error tokenizing data. C error: Expected 7 fields in line 4926, saw 9\n",
            " None\n",
            "torch.Size([8, 60]) torch.Size([8, 30])\n",
            "['BEAT', 'FORTY', 'NTAP', 'ERII', 'MRVL', 'MMYT', 'NVMI', 'PCYG', 'S', 'LOGI', 'ITRN', 'CRNT', 'WB', 'ON', 'PERI', 'TCX', 'SCSC', 'IVAC', 'PERF', 'III', 'EEFT', 'CTG', 'SATS', 'CSGS', 'AWRE', 'SWKS', 'AZPN', 'AMSWA', 'DIOD', 'CEVA', 'AOSL', 'NVEC', 'CDNS', 'SANM', 'RMBS', 'AMD', 'TTMI', 'MSTR', 'DGLY', 'SLP', 'GTLS', 'SMTC', 'QCOM', 'SURG', 'GIGM', 'SPNS', 'HIMX', 'WDC', 'SGMA', 'CVV', 'MCHP', 'TTEC', 'ADI', 'SNCR', 'NATI', 'KLIC', 'EVLV', 'SOFO', 'KTCC', 'AXTI', 'REFR', 'SPLK', 'PXLW', 'FRSH', 'STEM', 'ELTK', 'VNET', 'EPAM', 'PCTY', 'TAIT', 'SLAB', 'ASUR', 'ACIW', 'PLAB', 'TTGT', 'AAOI', 'SILC', 'HCKT', 'NICE', 'EGHT', 'SYNA', 'ENPH', 'KOPN', 'VRNT', 'ADSK', 'MDRX', 'AMBA', 'NSSC', 'STRM', 'CRUS', 'INTC', 'KVHI', 'CLIR', 'YY', 'QLYS', 'CYBR', 'SSNC', 'VRNS', 'DJCO', 'DMRC', 'CAMT', 'TXN', 'ADBE', 'ARRY', 'AVID', 'DAVE', 'OLED', 'ZBRA', 'DGII', 'SEAC', 'MU', 'INOD', 'SIMO', 'SMSI', 'FIVN', 'FORM', 'XNET', 'PRFT', 'IPDN', 'SPWR', 'AAPL', 'MITK', 'NVDA', 'EXLS', 'DOX', 'AMKR', 'CMTL', 'BNSO', 'NSIT', 'TRNS', 'ASTI', 'ULBI', 'AMAT', 'TSRI', 'INVE', 'SPCB', 'RFIL', 'INFA', 'IPGP', 'EGAN', 'SPOK', 'BIDU', 'LSCC', 'VRSN', 'CPSI', 'PDFS', 'SMCI', 'MNTX', 'ASYS', 'MGIC', 'LTRPA', 'BLIN', 'EBIX', 'MTLS', 'FTNT', 'POWI', 'KE', 'IMMR', 'PLXS', 'IMOS', 'FSLR', 'PTC', 'GSIT', 'LPSN', 'CVLT', 'BLKB', 'JKHY', 'TRUE', 'SNPS', 'QUIK', 'UPLD', 'ASML', 'AGYS', 'SPSC', 'EMKR', 'MOMO', 'CTSH', 'BCOV', 'WIX', 'HLIT', 'NTCT', 'TACT', 'OSIS', 'SMRT', 'ACLS', 'VSAT', 'COMM', 'MPWR', 'LFUS', 'SSYS', 'TSEM', 'MNDO', 'INTU', 'MANH', 'GILT', 'PEGA', 'TYL', 'ENTG', 'FFIV', 'DAIO', 'RDCM', 'RELL', 'MSFT', 'PRGS', 'RDWR', 'LEDS', 'ANGI', 'STX', 'SOHU', 'PLUS', 'NEON', 'NXPI', 'CLRO', 'UCTT', 'CHKP', 'NTWK', 'VECO', 'LPTH', 'CSPI', 'VICR']\n"
          ]
        },
        {
          "output_type": "stream",
          "name": "stderr",
          "text": [
            "<ipython-input-13-d7b8bdba2ca5>:29: UserWarning: FixedFormatter should only be used together with FixedLocator\n",
            "  ax.set_xticklabels(['']+list(tickers))\n",
            "<ipython-input-13-d7b8bdba2ca5>:30: UserWarning: FixedFormatter should only be used together with FixedLocator\n",
            "  ax.set_yticklabels(['']+list(tickers))\n"
          ]
        },
        {
          "output_type": "display_data",
          "data": {
            "text/plain": [
              "<Figure size 640x480 with 2 Axes>"
            ],
            "image/png": "[encoded data removed]"
          },
          "metadata": {}
        }
      ]
    },
    {
      "cell_type": "code",
      "source": [
        "# Define hyperparameters\n",
        "batch_size = 8\n",
        "learning_rate = 1e-20\n",
        "hidden_size = 50\n",
        "training_length = 60\n",
        "predict_length = 30\n",
        "\n",
        "train_folder_path = 'stock_market_data/nasdaq/csv/'\n",
        "test_folder_path = 'stock_market_data/nyse/csv/'\n",
        "train_dataset = CSVData(train_folder_path, tech_nasdaq, training_length, predict_length)\n",
        "train_loader = DataLoader(train_dataset, batch_size=8, shuffle=True)\n",
        "\n",
        "test_dataset = CSVData(test_folder_path, tech_nyse, training_length, predict_length)\n",
        "test_loader = DataLoader(test_dataset, batch_size=8, shuffle=False)"
      ],
      "metadata": {
        "colab": {
          "base_uri": "https://localhost:8080/"
        },
        "id": "C5ZBmF3O1F5p",
        "outputId": "ab0f263f-aade-44fa-af10-14511ed5f2d7"
      },
      "execution_count": 14,
      "outputs": [
        {
          "output_type": "stream",
          "name": "stdout",
          "text": [
            "221\n",
            "LRCX\n",
            "Error tokenizing data. C error: Expected 7 fields in line 4926, saw 9\n",
            " None\n",
            "42\n"
          ]
        }
      ]
    },
    {
      "cell_type": "code",
      "source": [
        "len(train_loader), len(test_loader)"
      ],
      "metadata": {
        "colab": {
          "base_uri": "https://localhost:8080/"
        },
        "id": "i8tVGdIU61db",
        "outputId": "bf691f94-a9d3-4a43-8f4a-45a47f61584b"
      },
      "execution_count": 15,
      "outputs": [
        {
          "output_type": "execute_result",
          "data": {
            "text/plain": [
              "(161214, 27645)"
            ]
          },
          "metadata": {},
          "execution_count": 15
        }
      ]
    },
    {
      "cell_type": "code",
      "source": [
        "import pickle\n",
        "\n",
        "with open('tech_loader.pkl', 'wb') as f:\n",
        "  pickle.dump(test_loader, f)"
      ],
      "metadata": {
        "id": "49P21Zdpwjmm"
      },
      "execution_count": 17,
      "outputs": []
    },
    {
      "cell_type": "code",
      "source": [
        "with open('tech_loader.pkl', 'rb') as f:\n",
        "  p = pickle.load( f)\n",
        "len(p)"
      ],
      "metadata": {
        "colab": {
          "base_uri": "https://localhost:8080/"
        },
        "id": "yD-oTzbVww4T",
        "outputId": "d797f029-33e2-4d81-e8e8-974cb402aef5"
      },
      "execution_count": 19,
      "outputs": [
        {
          "output_type": "execute_result",
          "data": {
            "text/plain": [
              "27645"
            ]
          },
          "metadata": {},
          "execution_count": 19
        }
      ]
    },
    {
      "cell_type": "code",
      "source": [
        "import os\n",
        "import pandas as pd\n",
        "import numpy as np\n",
        "from sklearn.preprocessing import MinMaxScaler\n",
        "import torch\n",
        "from torch import nn, optim\n",
        "from torch.utils.data import Dataset, DataLoader\n",
        "\n",
        "# Define the sequence length for input data to the LSTM model\n",
        "sequence_length = 60\n",
        "prediction_length = 30\n",
        "\n",
        "# Define the LSTM model\n",
        "class StockLSTM(nn.Module):\n",
        "    def __init__(self, input_size, hidden_size, seq_len, num_layers=1):\n",
        "        super().__init__()\n",
        "        self.lstm = nn.LSTM(input_size, hidden_size, num_layers, batch_first=True)\n",
        "        self.lstm2 = nn.LSTM(hidden_size, input_size, num_layers, batch_first=True)\n",
        "        self.linear1 = nn.Linear(seq_len, hidden_size)\n",
        "        self.fc = nn.Linear(seq_len, prediction_length)\n",
        "        self.fc1 = nn.Linear(seq_len, seq_len)\n",
        "        self.fc2 = nn.Linear(seq_len, seq_len)\n",
        "\n",
        "        self.fc_only_lstm = nn.Linear(hidden_size, prediction_length)\n",
        "        self.gelu = nn.GELU()\n",
        "        self.seq_len = seq_len\n",
        "\n",
        "    def forward(self, x, adj_matrix):\n",
        "        out, _ = self.lstm(x)\n",
        "        # out2, _ = self.lstm2(out)\n",
        "        # # out2 = out2.reshape(self.seq_len, -1)\n",
        "        # tmp = torch.matmul(adj_matrix, out2)\n",
        "        # # tmp = tmp.reshape(-1, self.seq_len)\n",
        "        # tmp_out = self.fc1(tmp)\n",
        "        # gelu1_out = self.gelu(tmp_out)\n",
        "\n",
        "        # tmp = torch.matmul(adj_matrix, gelu1_out)\n",
        "        # tmp_out = self.fc2(tmp)\n",
        "        # gelu1_out = self.gelu(tmp_out)\n",
        "\n",
        "        out = self.fc_only_lstm(out.reshape(x.shape[0], -1))\n",
        "        return out\n"
      ],
      "metadata": {
        "id": "5fQpKpMO3eKJ"
      },
      "execution_count": 20,
      "outputs": []
    },
    {
      "cell_type": "code",
      "source": [
        "learning_rate = 1e-6\n",
        "device = 'cuda'\n",
        "\n",
        "model = StockLSTM(input_size=60, hidden_size=hidden_size, seq_len=training_length).to(device)\n",
        "optimizer = optim.Adam(model.parameters(), lr=learning_rate)\n",
        "loss_fn = nn.MSELoss().to(device)\n",
        "overall_avg_loss = []\n",
        "overall_test_loss = []\n",
        "\n",
        "import numpy as np\n",
        "import pandas as pd\n",
        "\n",
        "def create_adj_matrix(data, threshold = 0.8):\n",
        "    \"\"\"\n",
        "    Creates an adjacency matrix for a correlation graph given a pandas DataFrame of stock prices and a threshold value.\n",
        "\n",
        "    :param data: pandas DataFrame of stock prices with each column representing a stock and each row representing a day\n",
        "    :param threshold: minimum correlation coefficient value for an edge to be included in the graph\n",
        "    :return: a numpy ndarray representing the adjacency matrix\n",
        "    \"\"\"\n",
        "    # Calculate the correlation matrix\n",
        "    # print(data.squeeze(-1))\n",
        "    corr_matrix = torch.corrcoef(data.squeeze(-1))\n",
        "\n",
        "    nan_indices = torch.isnan(corr_matrix)\n",
        "    corr_matrix[nan_indices] = 0.0\n",
        "\n",
        "    # adj_matrix = np.where(np.abs(corr_matrix) >= threshold, 1, 0)\n",
        "    # return torch.from_numpy(adj_matrix).float()\n",
        "\n",
        "    return corr_matrix\n",
        "\n",
        "  \n",
        "\n",
        "from tqdm import tqdm\n",
        "num_epochs = 8\n",
        "\n",
        "from sklearn.preprocessing import normalize\n",
        "import numpy as np\n",
        "\n",
        "\n",
        "def scale(X):\n",
        "  '''\n",
        "  Scales each row so that the largest value is 1.0\n",
        "  '''\n",
        "  eps = 1e-12\n",
        "  scaled_X = (X - 0) / (torch.max(X, axis=1).values - 0 + eps).unsqueeze(1)\n",
        "  return scaled_X, torch.max(X, axis=1).values.unsqueeze(1)"
      ],
      "metadata": {
        "id": "BM0osC2Uv_Ov"
      },
      "execution_count": 22,
      "outputs": []
    },
    {
      "cell_type": "code",
      "source": [
        "\n",
        "\n",
        "for epoch in range(num_epochs):\n",
        "    print('epoch', epoch)\n",
        "    running_loss = 0.0\n",
        "    path = f'{epoch}_random_epoch_new.ckpt'\n",
        "    torch.save(model.state_dict(), path)\n",
        "    # Wrap the train_loader with tqdm for progress bar\n",
        "    for i, data in tqdm(enumerate(train_loader), total=len(train_loader)):\n",
        "        \n",
        "        column_data, labels, tickers = data\n",
        "        optimizer.zero_grad()\n",
        "        if torch.sum(torch.isnan(column_data)) + torch.sum(torch.isnan(labels))> 0:\n",
        "          continue\n",
        "\n",
        "        column_data, scaling_factor = scale(column_data)\n",
        "        \n",
        "        adj_matrix = create_adj_matrix(column_data)\n",
        "        column_data = column_data.to(device)\n",
        "        outputs = model(column_data, adj_matrix)\n",
        "\n",
        "        labels = labels.to(device)\n",
        "        outputs= outputs.to(device)\n",
        "\n",
        "        labels_scaled = torch.clamp(labels / (scaling_factor.to(device) + 1e-12), 0.0, 1.0)\n",
        "        loss = loss_fn(outputs, labels_scaled)\n",
        "        # print(loss.item())\n",
        "\n",
        "        loss.backward()\n",
        "        optimizer.step()\n",
        "        running_loss += loss.item()\n",
        "        if i % 10000 == 99 :\n",
        "          print(running_loss / (i + 1))\n",
        "        # Print the average loss every 100 batches\n",
        "        # if i % 100 == 99:\n",
        "        #     model.eval()\n",
        "        #     test_loss = 0.0\n",
        "        #     for test_data in test_loader:\n",
        "        #         column_data_test, y_test = test_data\n",
        "        #         optimizer.zero_grad()\n",
        "        #         adj_matrix_test = create_adj_matrix(column_data_test)\n",
        "\n",
        "        #         y_pred = model(column_data, adj_matrix_test)\n",
        "        #         test_loss += loss_fn(y_pred, y_test)\n",
        "\n",
        "        #     print(test_loss.item() / len(test_loader))\n",
        "        #     overall_test_loss.append(test_loss.item() / len(test_loader))\n",
        "        #     print(f\"Epoch {epoch + 1}, Batch {i + 1}: Average Loss = {running_loss / 100}\")\n",
        "        #     overall_avg_loss.append(running_loss / 100)\n",
        "        #     running_loss = 0.0\n",
        "        #     model.train()\n",
        "            \n",
        "    # Print the average loss for the epoch\n",
        "    avg_loss = running_loss / len(train_loader)\n",
        "    print(f\"Epoch {epoch + 1}: Average Loss = {avg_loss}\")\n",
        "    overall_avg_loss.append(avg_loss)"
      ],
      "metadata": {
        "colab": {
          "base_uri": "https://localhost:8080/"
        },
        "id": "fMXFfhD73pSE",
        "outputId": "dcf1cb4a-1dbd-4e43-9095-48a58ba7dc02"
      },
      "execution_count": 120,
      "outputs": [
        {
          "metadata": {
            "tags": null
          },
          "name": "stdout",
          "output_type": "stream",
          "text": [
            "epoch 0\n"
          ]
        },
        {
          "metadata": {
            "tags": null
          },
          "name": "stderr",
          "output_type": "stream",
          "text": [
            "  0%|          | 131/134242 [00:00<12:25, 180.00it/s]"
          ]
        },
        {
          "metadata": {
            "tags": null
          },
          "name": "stdout",
          "output_type": "stream",
          "text": [
            "0.6816065460443497\n"
          ]
        },
        {
          "metadata": {
            "tags": null
          },
          "name": "stderr",
          "output_type": "stream",
          "text": [
            "  8%|▊         | 10194/134242 [00:23<04:09, 497.27it/s]"
          ]
        },
        {
          "metadata": {
            "tags": null
          },
          "name": "stdout",
          "output_type": "stream",
          "text": [
            "0.5347691253034195\n"
          ]
        },
        {
          "metadata": {
            "tags": null
          },
          "name": "stderr",
          "output_type": "stream",
          "text": [
            " 15%|█▌        | 20167/134242 [00:45<03:57, 479.93it/s]"
          ]
        },
        {
          "metadata": {
            "tags": null
          },
          "name": "stdout",
          "output_type": "stream",
          "text": [
            "0.3886933349940314\n"
          ]
        },
        {
          "metadata": {
            "tags": null
          },
          "name": "stderr",
          "output_type": "stream",
          "text": [
            " 22%|██▏       | 30145/134242 [01:07<04:26, 391.10it/s]"
          ]
        },
        {
          "metadata": {
            "tags": null
          },
          "name": "stdout",
          "output_type": "stream",
          "text": [
            "0.2894200606308754\n"
          ]
        },
        {
          "metadata": {
            "tags": null
          },
          "name": "stderr",
          "output_type": "stream",
          "text": [
            " 30%|██▉       | 40180/134242 [01:29<03:02, 514.19it/s]"
          ]
        },
        {
          "metadata": {
            "tags": null
          },
          "name": "stdout",
          "output_type": "stream",
          "text": [
            "0.2279309510836782\n"
          ]
        },
        {
          "metadata": {
            "tags": null
          },
          "name": "stderr",
          "output_type": "stream",
          "text": [
            " 37%|███▋      | 50172/134242 [01:51<03:00, 466.92it/s]"
          ]
        },
        {
          "metadata": {
            "tags": null
          },
          "name": "stdout",
          "output_type": "stream",
          "text": [
            "0.18862768870135657\n"
          ]
        },
        {
          "metadata": {
            "tags": null
          },
          "name": "stderr",
          "output_type": "stream",
          "text": [
            " 45%|████▍     | 60150/134242 [02:13<02:32, 487.29it/s]"
          ]
        },
        {
          "metadata": {
            "tags": null
          },
          "name": "stdout",
          "output_type": "stream",
          "text": [
            "0.16151755678028523\n"
          ]
        },
        {
          "metadata": {
            "tags": null
          },
          "name": "stderr",
          "output_type": "stream",
          "text": [
            " 52%|█████▏    | 70159/134242 [02:35<02:13, 479.06it/s]"
          ]
        },
        {
          "metadata": {
            "tags": null
          },
          "name": "stdout",
          "output_type": "stream",
          "text": [
            "0.14152003449306141\n"
          ]
        },
        {
          "metadata": {
            "tags": null
          },
          "name": "stderr",
          "output_type": "stream",
          "text": [
            " 60%|█████▉    | 80140/134242 [02:58<02:26, 370.50it/s]"
          ]
        },
        {
          "metadata": {
            "tags": null
          },
          "name": "stdout",
          "output_type": "stream",
          "text": [
            "0.12624243501991791\n"
          ]
        },
        {
          "metadata": {
            "tags": null
          },
          "name": "stderr",
          "output_type": "stream",
          "text": [
            " 75%|███████▍  | 100172/134242 [03:42<01:13, 460.75it/s]"
          ]
        },
        {
          "metadata": {
            "tags": null
          },
          "name": "stdout",
          "output_type": "stream",
          "text": [
            "0.10433058489837892\n"
          ]
        },
        {
          "metadata": {
            "tags": null
          },
          "name": "stderr",
          "output_type": "stream",
          "text": [
            " 82%|████████▏ | 110140/134242 [04:04<01:02, 385.52it/s]"
          ]
        },
        {
          "metadata": {
            "tags": null
          },
          "name": "stdout",
          "output_type": "stream",
          "text": [
            "0.09624748749285852\n"
          ]
        },
        {
          "metadata": {
            "tags": null
          },
          "name": "stderr",
          "output_type": "stream",
          "text": [
            " 90%|████████▉ | 120151/134242 [04:27<00:29, 469.79it/s]"
          ]
        },
        {
          "metadata": {
            "tags": null
          },
          "name": "stdout",
          "output_type": "stream",
          "text": [
            "0.08944231343025331\n"
          ]
        },
        {
          "metadata": {
            "tags": null
          },
          "name": "stderr",
          "output_type": "stream",
          "text": [
            " 97%|█████████▋| 130155/134242 [04:50<00:08, 476.84it/s]"
          ]
        },
        {
          "metadata": {
            "tags": null
          },
          "name": "stdout",
          "output_type": "stream",
          "text": [
            "0.0836699368181142\n"
          ]
        },
        {
          "metadata": {
            "tags": null
          },
          "name": "stderr",
          "output_type": "stream",
          "text": [
            "100%|██████████| 134242/134242 [04:58<00:00, 449.04it/s]\n"
          ]
        },
        {
          "metadata": {
            "tags": null
          },
          "name": "stdout",
          "output_type": "stream",
          "text": [
            "Epoch 1: Average Loss = 0.08151347806377575\n",
            "epoch 1\n"
          ]
        },
        {
          "metadata": {
            "tags": null
          },
          "name": "stderr",
          "output_type": "stream",
          "text": [
            "  8%|▊         | 10154/134242 [00:23<04:29, 460.31it/s]"
          ]
        },
        {
          "metadata": {
            "tags": null
          },
          "name": "stdout",
          "output_type": "stream",
          "text": [
            "0.013423212487411934\n"
          ]
        },
        {
          "metadata": {
            "tags": null
          },
          "name": "stderr",
          "output_type": "stream",
          "text": [
            " 15%|█▌        | 20187/134242 [00:46<03:53, 487.99it/s]"
          ]
        },
        {
          "metadata": {
            "tags": null
          },
          "name": "stdout",
          "output_type": "stream",
          "text": [
            "0.0134688785924421\n"
          ]
        },
        {
          "metadata": {
            "tags": null
          },
          "name": "stderr",
          "output_type": "stream",
          "text": [
            " 22%|██▏       | 30180/134242 [01:07<03:35, 483.51it/s]"
          ]
        },
        {
          "metadata": {
            "tags": null
          },
          "name": "stdout",
          "output_type": "stream",
          "text": [
            "0.013250837581304901\n"
          ]
        },
        {
          "metadata": {
            "tags": null
          },
          "name": "stderr",
          "output_type": "stream",
          "text": [
            " 30%|██▉       | 40179/134242 [01:30<03:22, 463.37it/s]"
          ]
        },
        {
          "metadata": {
            "tags": null
          },
          "name": "stdout",
          "output_type": "stream",
          "text": [
            "0.013147105709373826\n"
          ]
        },
        {
          "metadata": {
            "tags": null
          },
          "name": "stderr",
          "output_type": "stream",
          "text": [
            " 37%|███▋      | 50142/134242 [01:53<03:55, 356.60it/s]"
          ]
        },
        {
          "metadata": {
            "tags": null
          },
          "name": "stdout",
          "output_type": "stream",
          "text": [
            "0.013018529905427336\n"
          ]
        },
        {
          "metadata": {
            "tags": null
          },
          "name": "stderr",
          "output_type": "stream",
          "text": [
            " 52%|█████▏    | 70173/134242 [02:38<02:12, 484.97it/s]"
          ]
        },
        {
          "metadata": {
            "tags": null
          },
          "name": "stdout",
          "output_type": "stream",
          "text": [
            "0.0127834826923665\n"
          ]
        },
        {
          "metadata": {
            "tags": null
          },
          "name": "stderr",
          "output_type": "stream",
          "text": [
            " 60%|█████▉    | 80167/134242 [03:00<02:29, 361.97it/s]"
          ]
        },
        {
          "metadata": {
            "tags": null
          },
          "name": "stdout",
          "output_type": "stream",
          "text": [
            "0.012695697108859176\n"
          ]
        },
        {
          "metadata": {
            "tags": null
          },
          "name": "stderr",
          "output_type": "stream",
          "text": [
            " 67%|██████▋   | 90170/134242 [03:22<01:31, 484.29it/s]"
          ]
        },
        {
          "metadata": {
            "tags": null
          },
          "name": "stdout",
          "output_type": "stream",
          "text": [
            "0.012583616445623762\n"
          ]
        },
        {
          "metadata": {
            "tags": null
          },
          "name": "stderr",
          "output_type": "stream",
          "text": [
            " 75%|███████▍  | 100146/134242 [03:45<01:13, 464.28it/s]"
          ]
        },
        {
          "metadata": {
            "tags": null
          },
          "name": "stdout",
          "output_type": "stream",
          "text": [
            "0.012498143031015308\n"
          ]
        },
        {
          "metadata": {
            "tags": null
          },
          "name": "stderr",
          "output_type": "stream",
          "text": [
            " 90%|████████▉ | 120168/134242 [04:29<00:30, 465.30it/s]"
          ]
        },
        {
          "metadata": {
            "tags": null
          },
          "name": "stdout",
          "output_type": "stream",
          "text": [
            "0.01230772865779421\n"
          ]
        },
        {
          "metadata": {
            "tags": null
          },
          "name": "stderr",
          "output_type": "stream",
          "text": [
            " 97%|█████████▋| 130164/134242 [04:52<00:08, 477.51it/s]"
          ]
        },
        {
          "metadata": {
            "tags": null
          },
          "name": "stdout",
          "output_type": "stream",
          "text": [
            "0.012213736359205571\n"
          ]
        },
        {
          "metadata": {
            "tags": null
          },
          "name": "stderr",
          "output_type": "stream",
          "text": [
            "100%|██████████| 134242/134242 [05:01<00:00, 445.80it/s]\n"
          ]
        },
        {
          "metadata": {
            "tags": null
          },
          "name": "stdout",
          "output_type": "stream",
          "text": [
            "Epoch 2: Average Loss = 0.01217820266918393\n",
            "epoch 2\n"
          ]
        },
        {
          "metadata": {
            "tags": null
          },
          "name": "stderr",
          "output_type": "stream",
          "text": [
            "  8%|▊         | 10157/134242 [00:22<04:25, 467.73it/s]"
          ]
        },
        {
          "metadata": {
            "tags": null
          },
          "name": "stdout",
          "output_type": "stream",
          "text": [
            "0.011383320897538676\n"
          ]
        },
        {
          "metadata": {
            "tags": null
          },
          "name": "stderr",
          "output_type": "stream",
          "text": [
            " 15%|█▌        | 20159/134242 [00:45<04:24, 431.29it/s]"
          ]
        },
        {
          "metadata": {
            "tags": null
          },
          "name": "stdout",
          "output_type": "stream",
          "text": [
            "0.01119924113226809\n"
          ]
        },
        {
          "metadata": {
            "tags": null
          },
          "name": "stderr",
          "output_type": "stream",
          "text": [
            " 22%|██▏       | 30182/134242 [01:07<03:44, 463.61it/s]"
          ]
        },
        {
          "metadata": {
            "tags": null
          },
          "name": "stdout",
          "output_type": "stream",
          "text": [
            "0.011179878244302591\n"
          ]
        },
        {
          "metadata": {
            "tags": null
          },
          "name": "stderr",
          "output_type": "stream",
          "text": [
            " 30%|██▉       | 40147/134242 [01:29<03:19, 471.24it/s]"
          ]
        },
        {
          "metadata": {
            "tags": null
          },
          "name": "stdout",
          "output_type": "stream",
          "text": [
            "0.011103641756298136\n"
          ]
        },
        {
          "metadata": {
            "tags": null
          },
          "name": "stderr",
          "output_type": "stream",
          "text": [
            " 37%|███▋      | 50164/134242 [01:51<03:42, 378.02it/s]"
          ]
        },
        {
          "metadata": {
            "tags": null
          },
          "name": "stdout",
          "output_type": "stream",
          "text": [
            "0.011029921882924579\n"
          ]
        },
        {
          "metadata": {
            "tags": null
          },
          "name": "stderr",
          "output_type": "stream",
          "text": [
            " 45%|████▍     | 60185/134242 [02:13<02:31, 489.66it/s]"
          ]
        },
        {
          "metadata": {
            "tags": null
          },
          "name": "stdout",
          "output_type": "stream",
          "text": [
            "0.01100563121123062\n"
          ]
        },
        {
          "metadata": {
            "tags": null
          },
          "name": "stderr",
          "output_type": "stream",
          "text": [
            " 52%|█████▏    | 70171/134242 [02:36<02:20, 457.23it/s]"
          ]
        },
        {
          "metadata": {
            "tags": null
          },
          "name": "stdout",
          "output_type": "stream",
          "text": [
            "0.010958734412185851\n"
          ]
        },
        {
          "metadata": {
            "tags": null
          },
          "name": "stderr",
          "output_type": "stream",
          "text": [
            " 67%|██████▋   | 90166/134242 [03:20<01:31, 482.12it/s]"
          ]
        },
        {
          "metadata": {
            "tags": null
          },
          "name": "stdout",
          "output_type": "stream",
          "text": [
            "0.010887181661813366\n"
          ]
        },
        {
          "metadata": {
            "tags": null
          },
          "name": "stderr",
          "output_type": "stream",
          "text": [
            " 90%|████████▉ | 120174/134242 [04:26<00:28, 501.09it/s]"
          ]
        },
        {
          "metadata": {
            "tags": null
          },
          "name": "stdout",
          "output_type": "stream",
          "text": [
            "0.010826410983233453\n"
          ]
        },
        {
          "metadata": {
            "tags": null
          },
          "name": "stderr",
          "output_type": "stream",
          "text": [
            " 97%|█████████▋| 130155/134242 [04:48<00:10, 392.93it/s]"
          ]
        },
        {
          "metadata": {
            "tags": null
          },
          "name": "stdout",
          "output_type": "stream",
          "text": [
            "0.010801929531236062\n"
          ]
        },
        {
          "metadata": {
            "tags": null
          },
          "name": "stderr",
          "output_type": "stream",
          "text": [
            "100%|██████████| 134242/134242 [04:57<00:00, 451.04it/s]\n"
          ]
        },
        {
          "metadata": {
            "tags": null
          },
          "name": "stdout",
          "output_type": "stream",
          "text": [
            "Epoch 3: Average Loss = 0.010801982295575037\n",
            "epoch 3\n"
          ]
        },
        {
          "metadata": {
            "tags": null
          },
          "name": "stderr",
          "output_type": "stream",
          "text": [
            "  8%|▊         | 10168/134242 [00:22<04:09, 496.52it/s]"
          ]
        },
        {
          "metadata": {
            "tags": null
          },
          "name": "stdout",
          "output_type": "stream",
          "text": [
            "0.010350062806219194\n"
          ]
        },
        {
          "metadata": {
            "tags": null
          },
          "name": "stderr",
          "output_type": "stream",
          "text": [
            " 15%|█▌        | 20155/134242 [00:44<04:18, 440.72it/s]"
          ]
        },
        {
          "metadata": {
            "tags": null
          },
          "name": "stdout",
          "output_type": "stream",
          "text": [
            "0.010435250923492186\n"
          ]
        },
        {
          "metadata": {
            "tags": null
          },
          "name": "stderr",
          "output_type": "stream",
          "text": [
            " 22%|██▏       | 30162/134242 [01:06<03:37, 477.67it/s]"
          ]
        },
        {
          "metadata": {
            "tags": null
          },
          "name": "stdout",
          "output_type": "stream",
          "text": [
            "0.010497352155066633\n"
          ]
        },
        {
          "metadata": {
            "tags": null
          },
          "name": "stderr",
          "output_type": "stream",
          "text": [
            " 30%|██▉       | 40139/134242 [01:28<04:17, 365.17it/s]"
          ]
        },
        {
          "metadata": {
            "tags": null
          },
          "name": "stdout",
          "output_type": "stream",
          "text": [
            "0.010435415840831973\n"
          ]
        },
        {
          "output_type": "stream",
          "name": "stderr",
          "text": [
            " 37%|███▋      | 50151/134242 [01:50<03:03, 459.12it/s]"
          ]
        },
        {
          "output_type": "stream",
          "name": "stdout",
          "text": [
            "0.010440139988053427\n"
          ]
        },
        {
          "output_type": "stream",
          "name": "stderr",
          "text": [
            " 45%|████▍     | 60174/134242 [02:12<02:29, 495.76it/s]"
          ]
        },
        {
          "output_type": "stream",
          "name": "stdout",
          "text": [
            "0.01041771657274069\n"
          ]
        },
        {
          "output_type": "stream",
          "name": "stderr",
          "text": [
            " 52%|█████▏    | 70145/134242 [02:34<02:45, 386.26it/s]"
          ]
        },
        {
          "output_type": "stream",
          "name": "stdout",
          "text": [
            "0.010411265918437143\n"
          ]
        },
        {
          "output_type": "stream",
          "name": "stderr",
          "text": [
            " 60%|█████▉    | 80180/134242 [02:56<01:50, 489.68it/s]"
          ]
        },
        {
          "output_type": "stream",
          "name": "stdout",
          "text": [
            "0.010415298938317389\n"
          ]
        },
        {
          "output_type": "stream",
          "name": "stderr",
          "text": [
            " 67%|██████▋   | 90166/134242 [03:18<01:28, 497.13it/s]"
          ]
        },
        {
          "output_type": "stream",
          "name": "stdout",
          "text": [
            "0.010399266712124756\n"
          ]
        },
        {
          "output_type": "stream",
          "name": "stderr",
          "text": [
            " 75%|███████▍  | 100140/134242 [03:40<01:28, 386.25it/s]"
          ]
        },
        {
          "output_type": "stream",
          "name": "stdout",
          "text": [
            "0.010401149160328338\n"
          ]
        },
        {
          "output_type": "stream",
          "name": "stderr",
          "text": [
            " 89%|████████▉ | 120145/134242 [04:23<00:29, 482.91it/s]"
          ]
        },
        {
          "output_type": "stream",
          "name": "stdout",
          "text": [
            "0.010363261849607525\n"
          ]
        },
        {
          "output_type": "stream",
          "name": "stderr",
          "text": [
            " 97%|█████████▋| 130162/134242 [04:45<00:11, 355.01it/s]"
          ]
        },
        {
          "output_type": "stream",
          "name": "stdout",
          "text": [
            "0.010346100293910135\n"
          ]
        },
        {
          "output_type": "stream",
          "name": "stderr",
          "text": [
            "100%|██████████| 134242/134242 [04:54<00:00, 456.56it/s]\n"
          ]
        },
        {
          "output_type": "stream",
          "name": "stdout",
          "text": [
            "Epoch 4: Average Loss = 0.010343168295577859\n",
            "epoch 4\n"
          ]
        },
        {
          "output_type": "stream",
          "name": "stderr",
          "text": [
            "  8%|▊         | 10176/134242 [00:22<04:22, 472.47it/s]"
          ]
        },
        {
          "output_type": "stream",
          "name": "stdout",
          "text": [
            "0.010380815898245754\n"
          ]
        },
        {
          "output_type": "stream",
          "name": "stderr",
          "text": [
            " 15%|█▌        | 20195/134242 [00:45<04:00, 474.59it/s]"
          ]
        },
        {
          "output_type": "stream",
          "name": "stdout",
          "text": [
            "0.010260056109580012\n"
          ]
        },
        {
          "output_type": "stream",
          "name": "stderr",
          "text": [
            " 22%|██▏       | 30166/134242 [01:06<04:35, 378.09it/s]"
          ]
        },
        {
          "output_type": "stream",
          "name": "stdout",
          "text": [
            "0.01020199518859815\n"
          ]
        },
        {
          "output_type": "stream",
          "name": "stderr",
          "text": [
            " 30%|██▉       | 40172/134242 [01:28<03:10, 493.42it/s]"
          ]
        },
        {
          "output_type": "stream",
          "name": "stdout",
          "text": [
            "0.010155270860175964\n"
          ]
        },
        {
          "output_type": "stream",
          "name": "stderr",
          "text": [
            " 37%|███▋      | 50177/134242 [01:50<02:56, 476.46it/s]"
          ]
        },
        {
          "output_type": "stream",
          "name": "stdout",
          "text": [
            "0.01010750777274347\n"
          ]
        },
        {
          "output_type": "stream",
          "name": "stderr",
          "text": [
            " 45%|████▍     | 60161/134242 [02:12<03:15, 378.94it/s]"
          ]
        },
        {
          "output_type": "stream",
          "name": "stdout",
          "text": [
            "0.010102803918803048\n"
          ]
        },
        {
          "output_type": "stream",
          "name": "stderr",
          "text": [
            " 52%|█████▏    | 70172/134242 [02:34<02:12, 483.48it/s]"
          ]
        },
        {
          "output_type": "stream",
          "name": "stdout",
          "text": [
            "0.010108428024280832\n"
          ]
        },
        {
          "output_type": "stream",
          "name": "stderr",
          "text": [
            " 60%|█████▉    | 80190/134242 [02:56<01:47, 503.85it/s]"
          ]
        },
        {
          "output_type": "stream",
          "name": "stdout",
          "text": [
            "0.010100090462997405\n"
          ]
        },
        {
          "output_type": "stream",
          "name": "stderr",
          "text": [
            " 67%|██████▋   | 90175/134242 [03:18<01:30, 489.45it/s]"
          ]
        },
        {
          "output_type": "stream",
          "name": "stdout",
          "text": [
            "0.01009450435368127\n"
          ]
        },
        {
          "output_type": "stream",
          "name": "stderr",
          "text": [
            " 75%|███████▍  | 100180/134242 [03:39<01:10, 480.73it/s]"
          ]
        },
        {
          "output_type": "stream",
          "name": "stdout",
          "text": [
            "0.010091212763048413\n"
          ]
        },
        {
          "output_type": "stream",
          "name": "stderr",
          "text": [
            " 82%|████████▏ | 110161/134242 [04:01<00:49, 488.89it/s]"
          ]
        },
        {
          "output_type": "stream",
          "name": "stdout",
          "text": [
            "0.010084826824155685\n"
          ]
        },
        {
          "output_type": "stream",
          "name": "stderr",
          "text": [
            " 90%|████████▉ | 120159/134242 [04:23<00:27, 505.96it/s]"
          ]
        },
        {
          "output_type": "stream",
          "name": "stdout",
          "text": [
            "0.010091791199984535\n"
          ]
        },
        {
          "output_type": "stream",
          "name": "stderr",
          "text": [
            " 97%|█████████▋| 130165/134242 [04:44<00:08, 472.77it/s]"
          ]
        },
        {
          "output_type": "stream",
          "name": "stdout",
          "text": [
            "0.01008421975004565\n"
          ]
        },
        {
          "output_type": "stream",
          "name": "stderr",
          "text": [
            "100%|██████████| 134242/134242 [04:53<00:00, 457.16it/s]\n"
          ]
        },
        {
          "output_type": "stream",
          "name": "stdout",
          "text": [
            "Epoch 5: Average Loss = 0.010078884820064834\n",
            "epoch 5\n"
          ]
        },
        {
          "output_type": "stream",
          "name": "stderr",
          "text": [
            "  0%|          | 177/134242 [00:00<04:53, 456.43it/s]"
          ]
        },
        {
          "output_type": "stream",
          "name": "stdout",
          "text": [
            "0.008340129940770567\n"
          ]
        },
        {
          "output_type": "stream",
          "name": "stderr",
          "text": [
            "  8%|▊         | 10179/134242 [00:22<04:18, 480.63it/s]"
          ]
        },
        {
          "output_type": "stream",
          "name": "stdout",
          "text": [
            "0.009804030972034992\n"
          ]
        },
        {
          "output_type": "stream",
          "name": "stderr",
          "text": [
            " 15%|█▌        | 20168/134242 [00:44<05:01, 377.98it/s]"
          ]
        },
        {
          "output_type": "stream",
          "name": "stdout",
          "text": [
            "0.009911472174461783\n"
          ]
        },
        {
          "output_type": "stream",
          "name": "stderr",
          "text": [
            " 22%|██▏       | 30179/134242 [01:05<03:25, 506.12it/s]"
          ]
        },
        {
          "output_type": "stream",
          "name": "stdout",
          "text": [
            "0.009928832124194294\n"
          ]
        },
        {
          "output_type": "stream",
          "name": "stderr",
          "text": [
            " 30%|██▉       | 40154/134242 [01:27<03:17, 477.17it/s]"
          ]
        },
        {
          "output_type": "stream",
          "name": "stdout",
          "text": [
            "0.00993690402198965\n"
          ]
        },
        {
          "output_type": "stream",
          "name": "stderr",
          "text": [
            " 37%|███▋      | 50182/134242 [01:49<02:59, 467.30it/s]"
          ]
        },
        {
          "output_type": "stream",
          "name": "stdout",
          "text": [
            "0.009924237952235819\n"
          ]
        },
        {
          "output_type": "stream",
          "name": "stderr",
          "text": [
            " 52%|█████▏    | 70157/134242 [02:33<02:14, 475.59it/s]"
          ]
        },
        {
          "output_type": "stream",
          "name": "stdout",
          "text": [
            "0.009932942577617305\n"
          ]
        },
        {
          "output_type": "stream",
          "name": "stderr",
          "text": [
            " 60%|█████▉    | 80186/134242 [02:55<01:54, 473.91it/s]"
          ]
        },
        {
          "output_type": "stream",
          "name": "stdout",
          "text": [
            "0.009911399921494625\n"
          ]
        },
        {
          "output_type": "stream",
          "name": "stderr",
          "text": [
            " 67%|██████▋   | 90179/134242 [03:16<01:27, 505.03it/s]"
          ]
        },
        {
          "output_type": "stream",
          "name": "stdout",
          "text": [
            "0.009894741783017415\n"
          ]
        },
        {
          "output_type": "stream",
          "name": "stderr",
          "text": [
            " 75%|███████▍  | 100172/134242 [03:38<01:10, 481.56it/s]"
          ]
        },
        {
          "output_type": "stream",
          "name": "stdout",
          "text": [
            "0.009888337724537427\n"
          ]
        },
        {
          "output_type": "stream",
          "name": "stderr",
          "text": [
            " 82%|████████▏ | 110171/134242 [04:00<00:48, 491.25it/s]"
          ]
        },
        {
          "output_type": "stream",
          "name": "stdout",
          "text": [
            "0.009896435346072147\n"
          ]
        },
        {
          "output_type": "stream",
          "name": "stderr",
          "text": [
            " 89%|████████▉ | 120141/134242 [04:21<00:40, 346.88it/s]"
          ]
        },
        {
          "output_type": "stream",
          "name": "stdout",
          "text": [
            "0.009911158236636288\n"
          ]
        },
        {
          "output_type": "stream",
          "name": "stderr",
          "text": [
            " 97%|█████████▋| 130166/134242 [04:43<00:08, 499.86it/s]"
          ]
        },
        {
          "output_type": "stream",
          "name": "stdout",
          "text": [
            "0.009908277289568323\n"
          ]
        },
        {
          "output_type": "stream",
          "name": "stderr",
          "text": [
            "100%|██████████| 134242/134242 [04:52<00:00, 458.54it/s]\n"
          ]
        },
        {
          "output_type": "stream",
          "name": "stdout",
          "text": [
            "Epoch 6: Average Loss = 0.009906423278280856\n",
            "epoch 6\n"
          ]
        },
        {
          "output_type": "stream",
          "name": "stderr",
          "text": [
            "  0%|          | 164/134242 [00:00<05:09, 433.46it/s]"
          ]
        },
        {
          "output_type": "stream",
          "name": "stdout",
          "text": [
            "0.009437471139244735\n"
          ]
        },
        {
          "output_type": "stream",
          "name": "stderr",
          "text": [
            "  8%|▊         | 10151/134242 [00:22<05:26, 379.86it/s]"
          ]
        },
        {
          "output_type": "stream",
          "name": "stdout",
          "text": [
            "0.009917717380864121\n"
          ]
        },
        {
          "output_type": "stream",
          "name": "stderr",
          "text": [
            " 15%|█▌        | 20183/134242 [00:43<03:58, 478.06it/s]"
          ]
        },
        {
          "output_type": "stream",
          "name": "stdout",
          "text": [
            "0.010017023174791823\n"
          ]
        },
        {
          "output_type": "stream",
          "name": "stderr",
          "text": [
            " 22%|██▏       | 30194/134242 [01:05<03:40, 472.22it/s]"
          ]
        },
        {
          "output_type": "stream",
          "name": "stdout",
          "text": [
            "0.009907630310974786\n"
          ]
        },
        {
          "output_type": "stream",
          "name": "stderr",
          "text": [
            " 30%|██▉       | 40164/134242 [01:27<03:12, 487.88it/s]"
          ]
        },
        {
          "output_type": "stream",
          "name": "stdout",
          "text": [
            "0.009919141913758953\n"
          ]
        },
        {
          "output_type": "stream",
          "name": "stderr",
          "text": [
            " 37%|███▋      | 50164/134242 [01:48<02:56, 476.24it/s]"
          ]
        },
        {
          "output_type": "stream",
          "name": "stdout",
          "text": [
            "0.009874740541307768\n"
          ]
        },
        {
          "output_type": "stream",
          "name": "stderr",
          "text": [
            " 52%|█████▏    | 70174/134242 [02:32<02:09, 493.02it/s]"
          ]
        },
        {
          "output_type": "stream",
          "name": "stdout",
          "text": [
            "0.009858079831258389\n"
          ]
        },
        {
          "output_type": "stream",
          "name": "stderr",
          "text": [
            " 60%|█████▉    | 80140/134242 [02:54<02:09, 418.89it/s]"
          ]
        },
        {
          "output_type": "stream",
          "name": "stdout",
          "text": [
            "0.009865405995768062\n"
          ]
        },
        {
          "output_type": "stream",
          "name": "stderr",
          "text": [
            " 67%|██████▋   | 90152/134242 [03:15<01:28, 496.14it/s]"
          ]
        },
        {
          "output_type": "stream",
          "name": "stdout",
          "text": [
            "0.00985384010091503\n"
          ]
        },
        {
          "output_type": "stream",
          "name": "stderr",
          "text": [
            " 75%|███████▍  | 100164/134242 [03:37<01:08, 499.63it/s]"
          ]
        },
        {
          "output_type": "stream",
          "name": "stdout",
          "text": [
            "0.00984597559190659\n"
          ]
        },
        {
          "output_type": "stream",
          "name": "stderr",
          "text": [
            " 82%|████████▏ | 110169/134242 [03:58<01:05, 368.16it/s]"
          ]
        },
        {
          "output_type": "stream",
          "name": "stdout",
          "text": [
            "0.009837378370320784\n"
          ]
        },
        {
          "output_type": "stream",
          "name": "stderr",
          "text": [
            " 90%|████████▉ | 120154/134242 [04:20<00:28, 499.98it/s]"
          ]
        },
        {
          "output_type": "stream",
          "name": "stdout",
          "text": [
            "0.009828856831304434\n"
          ]
        },
        {
          "output_type": "stream",
          "name": "stderr",
          "text": [
            " 97%|█████████▋| 130176/134242 [04:42<00:08, 483.73it/s]"
          ]
        },
        {
          "output_type": "stream",
          "name": "stdout",
          "text": [
            "0.00982761145902613\n"
          ]
        },
        {
          "output_type": "stream",
          "name": "stderr",
          "text": [
            "100%|██████████| 134242/134242 [04:50<00:00, 461.89it/s]\n"
          ]
        },
        {
          "output_type": "stream",
          "name": "stdout",
          "text": [
            "Epoch 7: Average Loss = 0.009821767760902165\n",
            "epoch 7\n"
          ]
        },
        {
          "output_type": "stream",
          "name": "stderr",
          "text": [
            "  0%|          | 151/134242 [00:00<06:44, 331.57it/s]"
          ]
        },
        {
          "output_type": "stream",
          "name": "stdout",
          "text": [
            "0.009617838347330689\n"
          ]
        },
        {
          "output_type": "stream",
          "name": "stderr",
          "text": [
            "  8%|▊         | 10156/134242 [00:22<04:26, 464.99it/s]"
          ]
        },
        {
          "output_type": "stream",
          "name": "stdout",
          "text": [
            "0.009823616250028538\n"
          ]
        },
        {
          "output_type": "stream",
          "name": "stderr",
          "text": [
            " 15%|█▌        | 20170/134242 [00:43<03:55, 485.17it/s]"
          ]
        },
        {
          "output_type": "stream",
          "name": "stdout",
          "text": [
            "0.009795277637877822\n"
          ]
        },
        {
          "output_type": "stream",
          "name": "stderr",
          "text": [
            " 22%|██▏       | 30135/134242 [01:05<04:46, 362.90it/s]"
          ]
        },
        {
          "output_type": "stream",
          "name": "stdout",
          "text": [
            "0.009822310809302454\n"
          ]
        },
        {
          "output_type": "stream",
          "name": "stderr",
          "text": [
            " 45%|████▍     | 60177/134242 [02:11<02:40, 461.05it/s]"
          ]
        },
        {
          "output_type": "stream",
          "name": "stdout",
          "text": [
            "0.009765085527848083\n"
          ]
        },
        {
          "output_type": "stream",
          "name": "stderr",
          "text": [
            " 52%|█████▏    | 70140/134242 [02:32<02:10, 490.05it/s]"
          ]
        },
        {
          "output_type": "stream",
          "name": "stdout",
          "text": [
            "0.009748608423612005\n"
          ]
        },
        {
          "output_type": "stream",
          "name": "stderr",
          "text": [
            " 60%|█████▉    | 80183/134242 [02:54<01:48, 500.51it/s]"
          ]
        },
        {
          "output_type": "stream",
          "name": "stdout",
          "text": [
            "0.009750446896756925\n"
          ]
        },
        {
          "output_type": "stream",
          "name": "stderr",
          "text": [
            " 67%|██████▋   | 90148/134242 [03:16<01:32, 477.42it/s]"
          ]
        },
        {
          "output_type": "stream",
          "name": "stdout",
          "text": [
            "0.00976990169801785\n"
          ]
        },
        {
          "output_type": "stream",
          "name": "stderr",
          "text": [
            " 75%|███████▍  | 100157/134242 [03:37<01:10, 484.75it/s]"
          ]
        },
        {
          "output_type": "stream",
          "name": "stdout",
          "text": [
            "0.009785834941650754\n"
          ]
        },
        {
          "output_type": "stream",
          "name": "stderr",
          "text": [
            " 82%|████████▏ | 110155/134242 [03:58<00:48, 494.67it/s]"
          ]
        },
        {
          "output_type": "stream",
          "name": "stdout",
          "text": [
            "0.009779437724543717\n"
          ]
        },
        {
          "output_type": "stream",
          "name": "stderr",
          "text": [
            " 90%|████████▉ | 120160/134242 [04:21<00:29, 474.84it/s]"
          ]
        },
        {
          "output_type": "stream",
          "name": "stdout",
          "text": [
            "0.009768485340219884\n"
          ]
        },
        {
          "output_type": "stream",
          "name": "stderr",
          "text": [
            "100%|██████████| 134242/134242 [04:51<00:00, 460.78it/s]"
          ]
        },
        {
          "output_type": "stream",
          "name": "stdout",
          "text": [
            "Epoch 8: Average Loss = 0.009768267498107172\n"
          ]
        },
        {
          "output_type": "stream",
          "name": "stderr",
          "text": [
            "\n"
          ]
        }
      ]
    },
    {
      "cell_type": "code",
      "source": [
        "# path = '3_epochs.ckpt'\n",
        "# torch.save(model.state_dict(), path)\n",
        "# model.load_state_dict(torch.load(path))\n",
        "\n",
        "tech_model = StockLSTM(input_size=60, hidden_size=hidden_size, seq_len=training_length).to(device)\n",
        "tech_model.load_state_dict(torch.load('7_epoch_new.ckpt'))\n",
        "random_model = StockLSTM(input_size=60, hidden_size=hidden_size, seq_len=training_length).to(device)\n",
        "random_model.load_state_dict(torch.load('7_random_epoch_new.ckpt'))\n",
        "\n"
      ],
      "metadata": {
        "colab": {
          "base_uri": "https://localhost:8080/"
        },
        "id": "Fvy1bXuCCQUo",
        "outputId": "383e47e8-afe8-43b9-ca8f-309c3fbb6095"
      },
      "execution_count": 23,
      "outputs": [
        {
          "output_type": "execute_result",
          "data": {
            "text/plain": [
              "<All keys matched successfully>"
            ]
          },
          "metadata": {},
          "execution_count": 23
        }
      ]
    },
    {
      "cell_type": "code",
      "source": [
        "with open('test_loader.pkl', 'rb') as f:\n",
        "  random_test = pickle.load(f)\n",
        "len(random_test)"
      ],
      "metadata": {
        "colab": {
          "base_uri": "https://localhost:8080/"
        },
        "id": "LRTp4sNF0hDN",
        "outputId": "a96beda4-e6e3-4599-cc1a-336330219b68"
      },
      "execution_count": 53,
      "outputs": [
        {
          "output_type": "execute_result",
          "data": {
            "text/plain": [
              "188216"
            ]
          },
          "metadata": {},
          "execution_count": 53
        }
      ]
    },
    {
      "cell_type": "code",
      "source": [
        "model = random_model\n",
        "test_loss = 0.0\n",
        "model.eval()\n",
        "test_loader = random_test\n",
        "\n",
        "test_loss = 0.0\n",
        "with torch.no_grad():\n",
        "  for i, test_data in tqdm(enumerate(test_loader), total=len(test_loader)):\n",
        "      column_data_test, y_test, tickers = test_data\n",
        "      column_data_test = column_data_test.to(device)\n",
        "      y_test = y_test.to(device)\n",
        "      column_data_test, scaling_factor = scale(column_data_test)\n",
        "      if torch.sum(torch.isnan(column_data_test)) + torch.sum(torch.isnan(y_test))> 0:\n",
        "          continue\n",
        "      # optimizer.zero_grad()\n",
        "      adj_matrix_test = create_adj_matrix(column_data_test)\n",
        "      y_pred = model(column_data_test, adj_matrix_test) \n",
        "      y_test_clamp = torch.clamp(y_test / (scaling_factor.to(device) + 1e-12), 0.0, 1.0)\n",
        "\n",
        "      loss = loss_fn(y_pred, y_test_clamp)\n",
        "      test_loss += loss.item()\n",
        "      if np.isnan(test_loss):\n",
        "        print(column_data_test)\n",
        "        print(y_pred, y_test_clamp)\n",
        "        break\n",
        "      if i % 10000 == 999 :\n",
        "          print(test_loss / (i + 1))\n",
        "          y_pred *= scaling_factor.to(device)\n",
        "          # break\n",
        "      # print(test_loss)\n",
        "      # break\n",
        "print(test_loss / len(test_loader))"
      ],
      "metadata": {
        "colab": {
          "base_uri": "https://localhost:8080/"
        },
        "id": "xs4kicJM1YCR",
        "outputId": "c50e3bda-cc33-4696-bcb1-e2eea149df89"
      },
      "execution_count": 61,
      "outputs": [
        {
          "output_type": "stream",
          "name": "stderr",
          "text": [
            "  1%|          | 1103/188216 [00:02<05:58, 521.97it/s]"
          ]
        },
        {
          "output_type": "stream",
          "name": "stdout",
          "text": [
            "0.0046332947674673055\n"
          ]
        },
        {
          "output_type": "stream",
          "name": "stderr",
          "text": [
            " 17%|█▋        | 31078/188216 [00:47<03:39, 716.95it/s]"
          ]
        },
        {
          "output_type": "stream",
          "name": "stdout",
          "text": [
            "0.004778736203670457\n"
          ]
        },
        {
          "output_type": "stream",
          "name": "stderr",
          "text": [
            " 22%|██▏       | 41081/188216 [01:02<03:22, 726.41it/s]"
          ]
        },
        {
          "output_type": "stream",
          "name": "stdout",
          "text": [
            "0.004787100347027284\n"
          ]
        },
        {
          "output_type": "stream",
          "name": "stderr",
          "text": [
            " 32%|███▏      | 61125/188216 [01:32<03:08, 673.92it/s]"
          ]
        },
        {
          "output_type": "stream",
          "name": "stdout",
          "text": [
            "0.004796961860376273\n"
          ]
        },
        {
          "output_type": "stream",
          "name": "stderr",
          "text": [
            " 38%|███▊      | 71136/188216 [01:47<02:43, 714.08it/s]"
          ]
        },
        {
          "output_type": "stream",
          "name": "stdout",
          "text": [
            "0.004789980102528024\n"
          ]
        },
        {
          "output_type": "stream",
          "name": "stderr",
          "text": [
            " 43%|████▎     | 81121/188216 [02:02<02:24, 743.13it/s]"
          ]
        },
        {
          "output_type": "stream",
          "name": "stdout",
          "text": [
            "0.00478044856658901\n"
          ]
        },
        {
          "output_type": "stream",
          "name": "stderr",
          "text": [
            " 48%|████▊     | 91065/188216 [02:17<02:41, 601.67it/s]"
          ]
        },
        {
          "output_type": "stream",
          "name": "stdout",
          "text": [
            "0.0047892082696818945\n"
          ]
        },
        {
          "output_type": "stream",
          "name": "stderr",
          "text": [
            " 54%|█████▎    | 101084/188216 [02:33<02:41, 539.49it/s]"
          ]
        },
        {
          "output_type": "stream",
          "name": "stdout",
          "text": [
            "0.004782120671553773\n"
          ]
        },
        {
          "output_type": "stream",
          "name": "stderr",
          "text": [
            " 59%|█████▉    | 111080/188216 [02:48<02:06, 608.38it/s]"
          ]
        },
        {
          "output_type": "stream",
          "name": "stdout",
          "text": [
            "0.004781375780647625\n"
          ]
        },
        {
          "output_type": "stream",
          "name": "stderr",
          "text": [
            " 64%|██████▍   | 121093/188216 [03:03<01:38, 680.81it/s]"
          ]
        },
        {
          "output_type": "stream",
          "name": "stdout",
          "text": [
            "0.004787871836599497\n"
          ]
        },
        {
          "output_type": "stream",
          "name": "stderr",
          "text": [
            " 70%|██████▉   | 131107/188216 [03:18<01:15, 753.07it/s]"
          ]
        },
        {
          "output_type": "stream",
          "name": "stdout",
          "text": [
            "0.004786809336843292\n"
          ]
        },
        {
          "output_type": "stream",
          "name": "stderr",
          "text": [
            " 75%|███████▍  | 141080/188216 [03:33<01:03, 744.60it/s]"
          ]
        },
        {
          "output_type": "stream",
          "name": "stdout",
          "text": [
            "0.004789746158947452\n"
          ]
        },
        {
          "output_type": "stream",
          "name": "stderr",
          "text": [
            " 80%|████████  | 151087/188216 [03:48<00:52, 706.72it/s]"
          ]
        },
        {
          "output_type": "stream",
          "name": "stdout",
          "text": [
            "0.004797096903147546\n"
          ]
        },
        {
          "output_type": "stream",
          "name": "stderr",
          "text": [
            " 86%|████████▌ | 161143/188216 [04:02<00:35, 755.04it/s]"
          ]
        },
        {
          "output_type": "stream",
          "name": "stdout",
          "text": [
            "0.00478971287362843\n"
          ]
        },
        {
          "output_type": "stream",
          "name": "stderr",
          "text": [
            " 91%|█████████ | 171069/188216 [04:17<00:24, 713.94it/s]"
          ]
        },
        {
          "output_type": "stream",
          "name": "stdout",
          "text": [
            "0.004785411803613482\n"
          ]
        },
        {
          "output_type": "stream",
          "name": "stderr",
          "text": [
            " 96%|█████████▌| 181084/188216 [04:32<00:09, 722.73it/s]"
          ]
        },
        {
          "output_type": "stream",
          "name": "stdout",
          "text": [
            "0.0047886825763329074\n"
          ]
        },
        {
          "output_type": "stream",
          "name": "stderr",
          "text": [
            "100%|██████████| 188216/188216 [04:45<00:00, 659.26it/s]"
          ]
        },
        {
          "output_type": "stream",
          "name": "stdout",
          "text": [
            "0.004786277102210263\n"
          ]
        },
        {
          "output_type": "stream",
          "name": "stderr",
          "text": [
            "\n"
          ]
        }
      ]
    },
    {
      "cell_type": "code",
      "source": [
        "print(test_loss / len(test_loader))"
      ],
      "metadata": {
        "colab": {
          "base_uri": "https://localhost:8080/"
        },
        "id": "KvZpT66j4Dv8",
        "outputId": "5d3462d3-f032-43a6-d45a-81c04767decc"
      },
      "execution_count": 62,
      "outputs": [
        {
          "output_type": "stream",
          "name": "stdout",
          "text": [
            "0.004786277102210263\n"
          ]
        }
      ]
    },
    {
      "cell_type": "code",
      "source": [
        "model = random_model\n",
        "test_loss = 0.0\n",
        "model.eval()\n",
        "test_loader = random_test\n",
        "\n",
        "test_loss = 0.0\n",
        "with torch.no_grad():\n",
        "  i = 0\n",
        "  prev_y_test = []\n",
        "  for i, test_data in tqdm(enumerate(test_loader), total=len(test_loader)):\n",
        "      column_data_test, y_test, tickers = test_data\n",
        "      column_data_test = column_data_test.to(device)\n",
        "      y_test = y_test.to(device)\n",
        "      prev_y_test.append(y_test)\n",
        "      if len(prev_y_test) > 3:\n",
        "        prev_y_test = prev_y_test[1:]\n",
        "        \n",
        "      column_data_test, scaling_factor = scale(column_data_test)\n",
        "      if torch.sum(torch.isnan(column_data_test)) + torch.sum(torch.isnan(y_test))> 0:\n",
        "          continue\n",
        "      # optimizer.zero_grad()\n",
        "      adj_matrix_test = create_adj_matrix(column_data_test)\n",
        "      y_pred = model(column_data_test, adj_matrix_test) \n",
        "      y_test_clamp = torch.clamp(y_test / (scaling_factor.to(device) + 1e-12), 0.0, 1.0)\n",
        "\n",
        "      loss = loss_fn(y_pred, y_test_clamp)\n",
        "      test_loss += loss.item()\n",
        "      if np.isnan(test_loss):\n",
        "        print(column_data_test)\n",
        "        print(y_pred, y_test_clamp)\n",
        "        break\n",
        "      if i % 10000 == 999 :\n",
        "          print(test_loss / (i + 1))\n",
        "          y_pred *= scaling_factor.to(device)\n",
        "          # break\n",
        "      # print(test_loss)\n",
        "      # break\n",
        "print(test_loss / len(test_loader))"
      ],
      "metadata": {
        "id": "gdBj6FnB5QjP"
      },
      "execution_count": null,
      "outputs": []
    },
    {
      "cell_type": "code",
      "source": [
        "test_loss/len(test_loader)"
      ],
      "metadata": {
        "colab": {
          "base_uri": "https://localhost:8080/"
        },
        "id": "rlL-fqVFyR6D",
        "outputId": "cbe48ac8-ca03-4fcd-a451-32f6c985f3cd"
      },
      "execution_count": 55,
      "outputs": [
        {
          "output_type": "execute_result",
          "data": {
            "text/plain": [
              "tensor(nan, device='cuda:0')"
            ]
          },
          "metadata": {},
          "execution_count": 55
        }
      ]
    },
    {
      "cell_type": "code",
      "source": [
        "for x in prev_y_test:\n",
        "  print(x.shape)"
      ],
      "metadata": {
        "colab": {
          "base_uri": "https://localhost:8080/"
        },
        "id": "kJi1LVf0LZUY",
        "outputId": "c3314688-05ec-427f-bfcc-4be46bb0d65c"
      },
      "execution_count": 34,
      "outputs": [
        {
          "output_type": "stream",
          "name": "stdout",
          "text": [
            "torch.Size([8, 30])\n",
            "torch.Size([8, 30])\n",
            "torch.Size([1, 30])\n"
          ]
        }
      ]
    },
    {
      "cell_type": "code",
      "source": [
        "all_y_test = np.concatenate(prev_y_test, axis=1)"
      ],
      "metadata": {
        "id": "bFtE0W5BLgdn"
      },
      "execution_count": 51,
      "outputs": []
    },
    {
      "cell_type": "code",
      "source": [
        "import matplotlib.pyplot as plt\n",
        "\n",
        "print(ticker)\n",
        "# Plot the true values in blue\n",
        "plt.plot([i for i in range(90)], all_y_test[0], color='blue', label='True Values')\n",
        "\n",
        "# Plot the predicted values in red\n",
        "plt.plot([i for i in range(60, 90)], y_pred.cpu().numpy()[0], color='red', label='Predicted Values')\n",
        "\n",
        "# Add axis labels and a legend\n",
        "plt.title(f'{ticker[0]} tech stock prediction')\n",
        "plt.xlabel('Time')\n",
        "plt.ylabel('Stock Price')\n",
        "plt.legend()\n",
        "\n",
        "# Show the plot\n",
        "plt.show()"
      ],
      "metadata": {
        "colab": {
          "base_uri": "https://localhost:8080/",
          "height": 490
        },
        "id": "Ghwrfr3C5tbg",
        "outputId": "3b9e231e-9d97-48f3-fcb3-e11b22d9508d"
      },
      "execution_count": 52,
      "outputs": [
        {
          "output_type": "stream",
          "name": "stdout",
          "text": [
            "('ANET', 'ANET', 'ANET', 'ANET', 'ANET', 'ANET', 'ANET', 'ANET')\n"
          ]
        },
        {
          "output_type": "display_data",
          "data": {
            "text/plain": [
              "<Figure size 640x480 with 1 Axes>"
            ],
            "image/png": "[encoded data removed]"
          },
          "metadata": {}
        }
      ]
    },
    {
      "cell_type": "code",
      "source": [],
      "metadata": {
        "id": "KmMWwVgC51YD"
      },
      "execution_count": null,
      "outputs": []
    }
  ]
}